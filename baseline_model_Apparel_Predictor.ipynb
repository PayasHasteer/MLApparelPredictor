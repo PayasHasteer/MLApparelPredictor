{
  "nbformat": 4,
  "nbformat_minor": 0,
  "metadata": {
    "colab": {
      "name": "baseline_model_Apparel_Predictor.ipynb",
      "provenance": [],
      "authorship_tag": "ABX9TyOt5zEUMgbeh1MOIK2XmT/U",
      "include_colab_link": true
    },
    "kernelspec": {
      "name": "python3",
      "display_name": "Python 3"
    },
    "language_info": {
      "name": "python"
    },
    "accelerator": "GPU",
    "gpuClass": "standard"
  },
  "cells": [
    {
      "cell_type": "markdown",
      "metadata": {
        "id": "view-in-github",
        "colab_type": "text"
      },
      "source": [
        "<a href=\"https://colab.research.google.com/github/danialkhan02/MLApparelPredictor/blob/main/baseline_model_Apparel_Predictor.ipynb\" target=\"_parent\"><img src=\"https://colab.research.google.com/assets/colab-badge.svg\" alt=\"Open In Colab\"/></a>"
      ]
    },
    {
      "cell_type": "markdown",
      "source": [
        "\n",
        "\n",
        "1.   Data Loading and Splitting\n",
        "\n"
      ],
      "metadata": {
        "id": "clXmjAxfxMJ8"
      }
    },
    {
      "cell_type": "code",
      "source": [
        "#mount googledrive\n",
        "from google.colab import drive\n",
        "drive.mount('/content/gdrive', force_remount=True)"
      ],
      "metadata": {
        "colab": {
          "base_uri": "https://localhost:8080/"
        },
        "id": "M_MJNMeEw6hK",
        "outputId": "f042337b-c83e-4121-f9b3-3136c81a0f76"
      },
      "execution_count": 1,
      "outputs": [
        {
          "output_type": "stream",
          "name": "stdout",
          "text": [
            "Mounted at /content/gdrive\n"
          ]
        }
      ]
    },
    {
      "cell_type": "code",
      "execution_count": 2,
      "metadata": {
        "colab": {
          "base_uri": "https://localhost:8080/"
        },
        "id": "kbZIAjfGu4FH",
        "outputId": "608661c0-2b40-4360-da95-3ba87fc3402e"
      },
      "outputs": [
        {
          "output_type": "execute_result",
          "data": {
            "text/plain": [
              "<torch._C.Generator at 0x7fb9ced45950>"
            ]
          },
          "metadata": {},
          "execution_count": 2
        }
      ],
      "source": [
        "import os\n",
        "from tabulate import tabulate\n",
        "import time\n",
        "import numpy as np\n",
        "import torch\n",
        "import torch.nn as nn\n",
        "import torch.nn.functional as F\n",
        "import matplotlib.pyplot as plt # for plotting\n",
        "import torch.optim as optim #for gradient descent\n",
        "import torchvision\n",
        "from torchvision import datasets, transforms\n",
        "\n",
        "torch.manual_seed(1) # set the random seed"
      ]
    },
    {
      "cell_type": "code",
      "source": [
        "# define the training, validation, testing directories\n",
        "data_dir = \"/content/gdrive/My Drive/images/MyersSet/\"\n",
        "training_data_dir = os.path.join(data_dir, \"small_dataset_training\")\n",
        "validation_data_dir = os.path.join(data_dir, \"small_dataset_validation\")\n",
        "testing_data_dir = os.path.join(data_dir, \"small_dataset_testing\")\n",
        "\n",
        "classes = [\"mens+tshirt\",\n",
        "\"mens+shorts\",\n",
        "\"mens+suit+jacket\",\n",
        "\"dress\",\n",
        "\"high+heels\",\n",
        "\"sunglasses\",\n",
        "\"watches\",\n",
        "\"socks\"\n",
        "]"
      ],
      "metadata": {
        "id": "cFpnZmXvxZaG"
      },
      "execution_count": 3,
      "outputs": []
    },
    {
      "cell_type": "code",
      "source": [
        "# Load and Transform using ImageFolder\n",
        "\n",
        "# 244 x 244 pixels for the images, each image needs to be resized to be used later in the network\n",
        "data_transform = transforms.Compose([transforms.Resize((224, 224)),\n",
        "                                     transforms.ToTensor()])\n",
        "\n",
        "# generic data loader for taking in the datasets and using it for the network\n",
        "training_data_set = torchvision.datasets.ImageFolder(root=training_data_dir, transform=data_transform)\n",
        "validation_data_set = torchvision.datasets.ImageFolder(root=validation_data_dir, transform=data_transform)\n",
        "testing_data_set = torchvision.datasets.ImageFolder(root=testing_data_dir, transform=data_transform)\n"
      ],
      "metadata": {
        "id": "_Y2aZDicx7_q"
      },
      "execution_count": 4,
      "outputs": []
    },
    {
      "cell_type": "code",
      "source": [
        "# Check out the number of data samples for training, validation, testing data\n",
        "num_training_data = len(training_data_set)\n",
        "num_val_data = len(validation_data_set)\n",
        "num_testing_data = len(testing_data_set)\n",
        "\n",
        "data = [[\"Training\", num_training_data],\n",
        "        [\"Validation\", num_val_data],\n",
        "        [\"Testing\", num_testing_data],\n",
        "        [\"Total\", (num_training_data + num_val_data + num_testing_data)]]\n",
        "\n",
        "col_names = [\"Type of Data\", \"Number of Data Samples\"]\n",
        "\n",
        "print(tabulate(data, headers=col_names, tablefmt=\"fancy_grid\"))\n"
      ],
      "metadata": {
        "colab": {
          "base_uri": "https://localhost:8080/"
        },
        "id": "FhTeKBM1yR5l",
        "outputId": "26ecc51d-5c05-4833-e839-8611c126817f"
      },
      "execution_count": 5,
      "outputs": [
        {
          "output_type": "stream",
          "name": "stdout",
          "text": [
            "╒════════════════╤══════════════════════════╕\n",
            "│ Type of Data   │   Number of Data Samples │\n",
            "╞════════════════╪══════════════════════════╡\n",
            "│ Training       │                      168 │\n",
            "├────────────────┼──────────────────────────┤\n",
            "│ Validation     │                       80 │\n",
            "├────────────────┼──────────────────────────┤\n",
            "│ Testing        │                      135 │\n",
            "├────────────────┼──────────────────────────┤\n",
            "│ Total          │                      383 │\n",
            "╘════════════════╧══════════════════════════╛\n"
          ]
        }
      ]
    },
    {
      "cell_type": "code",
      "source": [
        "# define dataloader parameters\n",
        "batch_size  = 55\n",
        "num_workers = 0\n",
        "\n",
        "# prepare data loaders\n",
        "train_loader = torch.utils.data.DataLoader(training_data_set, batch_size=batch_size, \n",
        "                                           num_workers=num_workers, shuffle=True)\n",
        "val_loader = torch.utils.data.DataLoader(validation_data_set, batch_size=batch_size, \n",
        "                                          num_workers=num_workers, shuffle=True)"
      ],
      "metadata": {
        "id": "DwHOPAhXyZH1"
      },
      "execution_count": 6,
      "outputs": []
    },
    {
      "cell_type": "markdown",
      "source": [
        "Baseline Convolutional Network"
      ],
      "metadata": {
        "id": "zx9bOCWvy0b9"
      }
    },
    {
      "cell_type": "code",
      "source": [
        "#Convolutional Neural Network Architecture\n",
        "class CNN_ML_Apparel(nn.Module):\n",
        "    def __init__(self):\n",
        "        super(CNN_ML_Apparel, self).__init__()\n",
        "        self.conv1 = nn.Conv2d(3, 5, 5) #in_channels, out_chanels, kernel_size, string = 1, padding = 0\n",
        "        self.pool = nn.MaxPool2d(2, 2) #kernel_size, stride \n",
        "        self.conv2 = nn.Conv2d(5, 10, 5) #in_channels, out_chanels, kernel_size\n",
        "        self.fc1 = nn.Linear(53*53*10, 32)\n",
        "        self.fc2 = nn.Linear(32, 10)\n",
        "\n",
        "    def forward(self, x):\n",
        "        x = self.pool(F.relu(self.conv1(x)))\n",
        "        x = self.pool(F.relu(self.conv2(x)))\n",
        "        x = x.view(-1, 53*53*10)\n",
        "        x = F.relu(self.fc1(x))\n",
        "        x = self.fc2(x)\n",
        "        return x\n",
        "    \n",
        "    print('Convolutional Neural Network Architecture Done')\n"
      ],
      "metadata": {
        "colab": {
          "base_uri": "https://localhost:8080/"
        },
        "id": "JPWbRQHKyzxE",
        "outputId": "d0e830ad-3d47-4940-b09e-5ef0a9072c64"
      },
      "execution_count": 7,
      "outputs": [
        {
          "output_type": "stream",
          "name": "stdout",
          "text": [
            "Convolutional Neural Network Architecture Done\n"
          ]
        }
      ]
    },
    {
      "cell_type": "markdown",
      "source": [
        "**Training the Data**"
      ],
      "metadata": {
        "id": "dBgtuiRLzbmf"
      }
    },
    {
      "cell_type": "code",
      "source": [
        "def get_accuracy(model, train=False, batch_size=27):\n",
        "    if train:\n",
        "        data = training_data_set\n",
        "    else:\n",
        "        data = validation_data_set\n",
        "\n",
        "    correct = 0\n",
        "    total = 0\n",
        "    for imgs, labels in torch.utils.data.DataLoader(data, batch_size=batch_size):\n",
        "        #############################################\n",
        "        #To Enable GPU Usage\n",
        "        if use_cuda and torch.cuda.is_available():\n",
        "          imgs = imgs.cuda()\n",
        "          labels = labels.cuda()\n",
        "        #############################################\n",
        "\n",
        "        \n",
        "        output = model(imgs)\n",
        "        \n",
        "        #select index with maximum prediction score\n",
        "        pred = output.max(1, keepdim=True)[1]\n",
        "        correct += pred.eq(labels.view_as(pred)).sum().item()\n",
        "        total += imgs.shape[0]\n",
        "    return correct / total"
      ],
      "metadata": {
        "id": "2comTkNEzbJh"
      },
      "execution_count": 8,
      "outputs": []
    },
    {
      "cell_type": "code",
      "source": [
        "def train(model, data, batch_size=25, num_epochs=150, learn_rate=0.001, momentum=0.9):\n",
        "    ########################################################################\n",
        "    # Fixed PyTorch random seed for reproducible result\n",
        "    torch.manual_seed(1000)\n",
        "\n",
        "    # Load in the data from fed into function\n",
        "    train_loader = torch.utils.data.DataLoader(data, batch_size=batch_size, shuffle=True)\n",
        "    criterion = nn.CrossEntropyLoss()\n",
        "    optimizer = optim.SGD(model.parameters(), lr=learn_rate, momentum=momentum)\n",
        "\n",
        "    iters, losses, train_acc, val_acc = [], [], [], []\n",
        "\n",
        "    ########################################################################\n",
        "    # Train the network\n",
        "    # Loop over the data iterator and sample a new batch of training data\n",
        "    # Get the output from the network, and optimize our loss function.\n",
        "    start_time = time.time()\n",
        "    n = 0 # the number of iterations\n",
        "    for epoch in range(num_epochs):\n",
        "        for imgs, labels in iter(train_loader):\n",
        "\n",
        "            #############################################\n",
        "            #To Enable GPU Usage\n",
        "            if use_cuda and torch.cuda.is_available():\n",
        "              imgs = imgs.cuda()\n",
        "              labels = labels.cuda()\n",
        "            #############################################\n",
        "              \n",
        "            out = model(imgs)             # forward pass\n",
        "\n",
        "            loss = criterion(out, labels) # compute the total loss\n",
        "            loss.backward()               # backward pass (compute parameter updates)\n",
        "            optimizer.step()              # make the updates for each parameter\n",
        "            optimizer.zero_grad()         # a clean up step for PyTorch\n",
        "\n",
        "            # save the current training information\n",
        "            iters.append(n)\n",
        "            losses.append(float(loss)/batch_size)             # compute *average* loss\n",
        "\n",
        "            train_acc.append(get_accuracy(model, train=True, batch_size=batch_size)) # compute training accuracy \n",
        "            val_acc.append(get_accuracy(model, train=False, batch_size=batch_size))  # compute validation accuracy\n",
        "            n += 1\n",
        "        print((\"Iteration (Epoch):\", epoch, \"Train accuracy:\"), train_acc[-1])\n",
        "\n",
        "    print('Finished Training')\n",
        "    end_time = time.time()\n",
        "    elapsed_time = end_time - start_time\n",
        "    print(\"Total time elapsed: {:.2f} seconds\".format(elapsed_time))\n",
        "\n",
        "    # plotting\n",
        "    plt.title(\"Training Curve\")\n",
        "    plt.plot(iters, losses, label=\"Train\")\n",
        "    plt.xlabel(\"Iterations\")\n",
        "    plt.ylabel(\"Loss\")\n",
        "    plt.show()\n",
        "\n",
        "    plt.title(\"Training Curve\")\n",
        "    plt.plot(iters, train_acc, label=\"Train\")\n",
        "    plt.plot(iters, val_acc, label=\"Validation\")\n",
        "    plt.xlabel(\"Iterations\")\n",
        "    plt.ylabel(\"Training Accuracy\")\n",
        "    plt.legend(loc='best')\n",
        "    plt.show()\n",
        "\n",
        "    print(\"Final Training Accuracy: {}\".format(train_acc[-1]))\n",
        "    print(\"Final Validation Accuracy: {}\".format(val_acc[-1]))"
      ],
      "metadata": {
        "id": "hx98TOD5zp6d"
      },
      "execution_count": 9,
      "outputs": []
    },
    {
      "cell_type": "markdown",
      "source": [
        "**Overfit to the small myers dataset**"
      ],
      "metadata": {
        "id": "wecoCTt00ZFd"
      }
    },
    {
      "cell_type": "code",
      "source": [
        "print(\"CNN\")\n",
        "model = CNN_ML_Apparel()\n",
        "use_cuda = True\n",
        "\n",
        "if use_cuda and torch.cuda.is_available():\n",
        "  model.cuda()\n",
        "  print('CUDA is available!  Training on GPU ...')\n",
        "else:\n",
        "  print('CUDA is not available.  Training on CPU ...')\n",
        "  \n",
        "print(model)\n",
        "\n",
        "\n",
        "train(model, training_data_set,  num_epochs=110, batch_size=27, learn_rate=0.001, momentum=0.9)"
      ],
      "metadata": {
        "colab": {
          "base_uri": "https://localhost:8080/",
          "height": 1000
        },
        "id": "fu6r-BLb0YoT",
        "outputId": "5d1d1d9b-d31e-411f-ac19-b91444fdcb21"
      },
      "execution_count": 12,
      "outputs": [
        {
          "output_type": "stream",
          "name": "stdout",
          "text": [
            "CNN\n",
            "CUDA is available!  Training on GPU ...\n",
            "CNN_ML_Apparel(\n",
            "  (conv1): Conv2d(3, 5, kernel_size=(5, 5), stride=(1, 1))\n",
            "  (pool): MaxPool2d(kernel_size=2, stride=2, padding=0, dilation=1, ceil_mode=False)\n",
            "  (conv2): Conv2d(5, 10, kernel_size=(5, 5), stride=(1, 1))\n",
            "  (fc1): Linear(in_features=28090, out_features=32, bias=True)\n",
            "  (fc2): Linear(in_features=32, out_features=10, bias=True)\n",
            ")\n",
            "('Iteration (Epoch):', 0, 'Train accuracy:') 0.125\n",
            "('Iteration (Epoch):', 1, 'Train accuracy:') 0.125\n",
            "('Iteration (Epoch):', 2, 'Train accuracy:') 0.30357142857142855\n",
            "('Iteration (Epoch):', 3, 'Train accuracy:') 0.2619047619047619\n",
            "('Iteration (Epoch):', 4, 'Train accuracy:') 0.36904761904761907\n",
            "('Iteration (Epoch):', 5, 'Train accuracy:') 0.44047619047619047\n",
            "('Iteration (Epoch):', 6, 'Train accuracy:') 0.3392857142857143\n",
            "('Iteration (Epoch):', 7, 'Train accuracy:') 0.44642857142857145\n",
            "('Iteration (Epoch):', 8, 'Train accuracy:') 0.39285714285714285\n",
            "('Iteration (Epoch):', 9, 'Train accuracy:') 0.39880952380952384\n",
            "('Iteration (Epoch):', 10, 'Train accuracy:') 0.5\n",
            "('Iteration (Epoch):', 11, 'Train accuracy:') 0.6845238095238095\n",
            "('Iteration (Epoch):', 12, 'Train accuracy:') 0.6190476190476191\n",
            "('Iteration (Epoch):', 13, 'Train accuracy:') 0.5833333333333334\n",
            "('Iteration (Epoch):', 14, 'Train accuracy:') 0.6666666666666666\n",
            "('Iteration (Epoch):', 15, 'Train accuracy:') 0.7142857142857143\n",
            "('Iteration (Epoch):', 16, 'Train accuracy:') 0.6190476190476191\n",
            "('Iteration (Epoch):', 17, 'Train accuracy:') 0.6785714285714286\n",
            "('Iteration (Epoch):', 18, 'Train accuracy:') 0.6607142857142857\n",
            "('Iteration (Epoch):', 19, 'Train accuracy:') 0.6964285714285714\n",
            "('Iteration (Epoch):', 20, 'Train accuracy:') 0.6964285714285714\n",
            "('Iteration (Epoch):', 21, 'Train accuracy:') 0.7678571428571429\n",
            "('Iteration (Epoch):', 22, 'Train accuracy:') 0.8511904761904762\n",
            "('Iteration (Epoch):', 23, 'Train accuracy:') 0.7440476190476191\n",
            "('Iteration (Epoch):', 24, 'Train accuracy:') 0.6309523809523809\n",
            "('Iteration (Epoch):', 25, 'Train accuracy:') 0.75\n",
            "('Iteration (Epoch):', 26, 'Train accuracy:') 0.8214285714285714\n",
            "('Iteration (Epoch):', 27, 'Train accuracy:') 0.7857142857142857\n",
            "('Iteration (Epoch):', 28, 'Train accuracy:') 0.8035714285714286\n",
            "('Iteration (Epoch):', 29, 'Train accuracy:') 0.75\n",
            "('Iteration (Epoch):', 30, 'Train accuracy:') 0.7916666666666666\n",
            "('Iteration (Epoch):', 31, 'Train accuracy:') 0.8154761904761905\n",
            "('Iteration (Epoch):', 32, 'Train accuracy:') 0.7440476190476191\n",
            "('Iteration (Epoch):', 33, 'Train accuracy:') 0.8392857142857143\n",
            "('Iteration (Epoch):', 34, 'Train accuracy:') 0.8214285714285714\n",
            "('Iteration (Epoch):', 35, 'Train accuracy:') 0.8630952380952381\n",
            "('Iteration (Epoch):', 36, 'Train accuracy:') 0.8154761904761905\n",
            "('Iteration (Epoch):', 37, 'Train accuracy:') 0.8630952380952381\n",
            "('Iteration (Epoch):', 38, 'Train accuracy:') 0.8154761904761905\n",
            "('Iteration (Epoch):', 39, 'Train accuracy:') 0.875\n",
            "('Iteration (Epoch):', 40, 'Train accuracy:') 0.8452380952380952\n",
            "('Iteration (Epoch):', 41, 'Train accuracy:') 0.8392857142857143\n",
            "('Iteration (Epoch):', 42, 'Train accuracy:') 0.8809523809523809\n",
            "('Iteration (Epoch):', 43, 'Train accuracy:') 0.9226190476190477\n",
            "('Iteration (Epoch):', 44, 'Train accuracy:') 0.8452380952380952\n",
            "('Iteration (Epoch):', 45, 'Train accuracy:') 0.9107142857142857\n",
            "('Iteration (Epoch):', 46, 'Train accuracy:') 0.8928571428571429\n",
            "('Iteration (Epoch):', 47, 'Train accuracy:') 0.8928571428571429\n",
            "('Iteration (Epoch):', 48, 'Train accuracy:') 0.9464285714285714\n",
            "('Iteration (Epoch):', 49, 'Train accuracy:') 0.8988095238095238\n",
            "('Iteration (Epoch):', 50, 'Train accuracy:') 0.8988095238095238\n",
            "('Iteration (Epoch):', 51, 'Train accuracy:') 0.8690476190476191\n",
            "('Iteration (Epoch):', 52, 'Train accuracy:') 0.8571428571428571\n",
            "('Iteration (Epoch):', 53, 'Train accuracy:') 0.8988095238095238\n",
            "('Iteration (Epoch):', 54, 'Train accuracy:') 0.8988095238095238\n",
            "('Iteration (Epoch):', 55, 'Train accuracy:') 0.9345238095238095\n",
            "('Iteration (Epoch):', 56, 'Train accuracy:') 0.9345238095238095\n",
            "('Iteration (Epoch):', 57, 'Train accuracy:') 0.9523809523809523\n",
            "('Iteration (Epoch):', 58, 'Train accuracy:') 0.9464285714285714\n",
            "('Iteration (Epoch):', 59, 'Train accuracy:') 0.9464285714285714\n",
            "('Iteration (Epoch):', 60, 'Train accuracy:') 0.9047619047619048\n",
            "('Iteration (Epoch):', 61, 'Train accuracy:') 0.8988095238095238\n",
            "('Iteration (Epoch):', 62, 'Train accuracy:') 0.8214285714285714\n",
            "('Iteration (Epoch):', 63, 'Train accuracy:') 0.8630952380952381\n",
            "('Iteration (Epoch):', 64, 'Train accuracy:') 0.6726190476190477\n",
            "('Iteration (Epoch):', 65, 'Train accuracy:') 0.8154761904761905\n",
            "('Iteration (Epoch):', 66, 'Train accuracy:') 0.9285714285714286\n",
            "('Iteration (Epoch):', 67, 'Train accuracy:') 0.8869047619047619\n",
            "('Iteration (Epoch):', 68, 'Train accuracy:') 0.8988095238095238\n",
            "('Iteration (Epoch):', 69, 'Train accuracy:') 0.8452380952380952\n",
            "('Iteration (Epoch):', 70, 'Train accuracy:') 0.9345238095238095\n",
            "('Iteration (Epoch):', 71, 'Train accuracy:') 0.9166666666666666\n",
            "('Iteration (Epoch):', 72, 'Train accuracy:') 0.9702380952380952\n",
            "('Iteration (Epoch):', 73, 'Train accuracy:') 0.9940476190476191\n",
            "('Iteration (Epoch):', 74, 'Train accuracy:') 0.9880952380952381\n",
            "('Iteration (Epoch):', 75, 'Train accuracy:') 0.9821428571428571\n",
            "('Iteration (Epoch):', 76, 'Train accuracy:') 0.9285714285714286\n",
            "('Iteration (Epoch):', 77, 'Train accuracy:') 0.9464285714285714\n",
            "('Iteration (Epoch):', 78, 'Train accuracy:') 0.9702380952380952\n",
            "('Iteration (Epoch):', 79, 'Train accuracy:') 0.9821428571428571\n",
            "('Iteration (Epoch):', 80, 'Train accuracy:') 1.0\n",
            "('Iteration (Epoch):', 81, 'Train accuracy:') 0.9821428571428571\n",
            "('Iteration (Epoch):', 82, 'Train accuracy:') 0.9761904761904762\n",
            "('Iteration (Epoch):', 83, 'Train accuracy:') 0.9880952380952381\n",
            "('Iteration (Epoch):', 84, 'Train accuracy:') 0.9761904761904762\n",
            "('Iteration (Epoch):', 85, 'Train accuracy:') 0.8928571428571429\n",
            "('Iteration (Epoch):', 86, 'Train accuracy:') 0.9702380952380952\n",
            "('Iteration (Epoch):', 87, 'Train accuracy:') 0.9642857142857143\n",
            "('Iteration (Epoch):', 88, 'Train accuracy:') 0.9285714285714286\n",
            "('Iteration (Epoch):', 89, 'Train accuracy:') 0.9642857142857143\n",
            "('Iteration (Epoch):', 90, 'Train accuracy:') 0.9880952380952381\n",
            "('Iteration (Epoch):', 91, 'Train accuracy:') 0.9761904761904762\n",
            "('Iteration (Epoch):', 92, 'Train accuracy:') 1.0\n",
            "('Iteration (Epoch):', 93, 'Train accuracy:') 0.9642857142857143\n",
            "('Iteration (Epoch):', 94, 'Train accuracy:') 0.9821428571428571\n",
            "('Iteration (Epoch):', 95, 'Train accuracy:') 0.9940476190476191\n",
            "('Iteration (Epoch):', 96, 'Train accuracy:') 1.0\n",
            "('Iteration (Epoch):', 97, 'Train accuracy:') 1.0\n",
            "('Iteration (Epoch):', 98, 'Train accuracy:') 1.0\n",
            "('Iteration (Epoch):', 99, 'Train accuracy:') 1.0\n",
            "('Iteration (Epoch):', 100, 'Train accuracy:') 1.0\n",
            "('Iteration (Epoch):', 101, 'Train accuracy:') 1.0\n",
            "('Iteration (Epoch):', 102, 'Train accuracy:') 1.0\n",
            "('Iteration (Epoch):', 103, 'Train accuracy:') 1.0\n",
            "('Iteration (Epoch):', 104, 'Train accuracy:') 1.0\n",
            "('Iteration (Epoch):', 105, 'Train accuracy:') 1.0\n",
            "('Iteration (Epoch):', 106, 'Train accuracy:') 1.0\n",
            "('Iteration (Epoch):', 107, 'Train accuracy:') 1.0\n",
            "('Iteration (Epoch):', 108, 'Train accuracy:') 1.0\n",
            "('Iteration (Epoch):', 109, 'Train accuracy:') 1.0\n",
            "Finished Training\n",
            "Total time elapsed: 1374.30 seconds\n"
          ]
        },
        {
          "output_type": "display_data",
          "data": {
            "text/plain": [
              "<Figure size 432x288 with 1 Axes>"
            ],
            "image/png": "[encoded data removed]"
          },
          "metadata": {
            "needs_background": "light"
          }
        },
        {
          "output_type": "display_data",
          "data": {
            "text/plain": [
              "<Figure size 432x288 with 1 Axes>"
            ],
            "image/png": "[encoded data removed]"
          },
          "metadata": {
            "needs_background": "light"
          }
        },
        {
          "output_type": "stream",
          "name": "stdout",
          "text": [
            "Final Training Accuracy: 1.0\n",
            "Final Validation Accuracy: 0.8375\n"
          ]
        }
      ]
    },
    {
      "cell_type": "markdown",
      "source": [
        "Test the baseline model accuracy."
      ],
      "metadata": {
        "id": "usgVtd3B8vRG"
      }
    },
    {
      "cell_type": "code",
      "source": [
        "def get_test_accuracy(model, batch_size):\n",
        "    data = testing_data_set\n",
        "    correct = 0\n",
        "    total = 0\n",
        "    for imgs, labels in torch.utils.data.DataLoader(data, batch_size=batch_size):\n",
        "        \n",
        "        \n",
        "        #############################################\n",
        "        # To Enable GPU Usage\n",
        "        if use_cuda and torch.cuda.is_available():\n",
        "          imgs = imgs.cuda()\n",
        "          labels = labels.cuda()\n",
        "        #############################################\n",
        "\n",
        "        \n",
        "        output = model(imgs)\n",
        "        \n",
        "        # Select index with maximum prediction score\n",
        "        pred = output.max(1, keepdim=True)[1]\n",
        "        correct += pred.eq(labels.view_as(pred)).sum().item()\n",
        "        total += imgs.shape[0]\n",
        "    return correct / total"
      ],
      "metadata": {
        "id": "dbPadVh58Qq7"
      },
      "execution_count": 13,
      "outputs": []
    },
    {
      "cell_type": "code",
      "source": [
        "test_acc = get_test_accuracy(model, batch_size=27)\n",
        "print(\"The test accuracy is\", test_acc*100, \"%.\")"
      ],
      "metadata": {
        "colab": {
          "base_uri": "https://localhost:8080/"
        },
        "id": "HxWxQajs84UP",
        "outputId": "7ea8009f-1392-4a38-9db6-3192c5614bed"
      },
      "execution_count": 14,
      "outputs": [
        {
          "output_type": "stream",
          "name": "stdout",
          "text": [
            "The test accuracy is 80.74074074074075 %.\n"
          ]
        }
      ]
    },
    {
      "cell_type": "markdown",
      "source": [
        ""
      ],
      "metadata": {
        "id": "NKB2cGUC8pDd"
      }
    }
  ]
}