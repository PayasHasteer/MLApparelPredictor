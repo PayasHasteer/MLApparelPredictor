{
  "nbformat": 4,
  "nbformat_minor": 0,
  "metadata": {
    "colab": {
      "name": "Untitled2.ipynb",
      "provenance": [],
      "collapsed_sections": [],
      "authorship_tag": "ABX9TyO0XbUuiDC0svsFhjA6iX+w",
      "include_colab_link": true
    },
    "kernelspec": {
      "name": "python3",
      "display_name": "Python 3"
    },
    "language_info": {
      "name": "python"
    }
  },
  "cells": [
    {
      "cell_type": "markdown",
      "metadata": {
        "id": "view-in-github",
        "colab_type": "text"
      },
      "source": [
        "<a href=\"https://colab.research.google.com/github/danialkhan02/MLApparelPredictor/blob/main/DataProcesssingJul26.ipynb\" target=\"_parent\"><img src=\"https://colab.research.google.com/assets/colab-badge.svg\" alt=\"Open In Colab\"/></a>"
      ]
    },
    {
      "cell_type": "markdown",
      "source": [
        "**Function: Get list of images from each category**"
      ],
      "metadata": {
        "id": "-f74hUwVnPDq"
      }
    },
    {
      "cell_type": "code",
      "source": [
        "import requests \n",
        "from bs4 import BeautifulSoup \n",
        "import urllib.request"
      ],
      "metadata": {
        "id": "wMAS9TmUfQq4"
      },
      "execution_count": 11,
      "outputs": []
    },
    {
      "cell_type": "code",
      "source": [
        "list_of_categories = [\n",
        "\"tshirt\",\n",
        "\"suit\",\n",
        "\"short\",\n",
        "\"shirt\",\n",
        "\"suit\",\n",
        "\"dress\",\n",
        "\"gloves\",\n",
        "\"skirt\",\n",
        "\"pants\",\n",
        "\"long+sleeve+tshirt\",\n",
        "\"dress+shirt\",\n",
        "\"skirt\",\n",
        "\"blouse\",\n",
        "]"
      ],
      "metadata": {
        "id": "hns9HAmDoMcX"
      },
      "execution_count": 12,
      "outputs": []
    },
    {
      "cell_type": "code",
      "source": [
        "list_of_gen_links = []\n",
        "\n",
        "\n",
        "for item in list_of_categories:\n",
        "  list_of_gen_links.append(f\"https://www.amazon.in/s?k={item}&crid=1EI7D4CAY1PY3&sprefix=tshir%2Caps%2C212&ref=nb_sb_noss_2\")\n",
        "\n",
        "print(list_of_gen_links)"
      ],
      "metadata": {
        "id": "cbJ00uxio6_x",
        "colab": {
          "base_uri": "https://localhost:8080/"
        },
        "outputId": "9effcb73-94d1-460f-f426-c62039b97598"
      },
      "execution_count": 15,
      "outputs": [
        {
          "output_type": "stream",
          "name": "stdout",
          "text": [
            "['https://www.amazon.in/s?k=tshirt&crid=1EI7D4CAY1PY3&sprefix=tshir%2Caps%2C212&ref=nb_sb_noss_2', 'https://www.amazon.in/s?k=suit&crid=1EI7D4CAY1PY3&sprefix=tshir%2Caps%2C212&ref=nb_sb_noss_2', 'https://www.amazon.in/s?k=short&crid=1EI7D4CAY1PY3&sprefix=tshir%2Caps%2C212&ref=nb_sb_noss_2', 'https://www.amazon.in/s?k=shirt&crid=1EI7D4CAY1PY3&sprefix=tshir%2Caps%2C212&ref=nb_sb_noss_2', 'https://www.amazon.in/s?k=suit&crid=1EI7D4CAY1PY3&sprefix=tshir%2Caps%2C212&ref=nb_sb_noss_2', 'https://www.amazon.in/s?k=dress&crid=1EI7D4CAY1PY3&sprefix=tshir%2Caps%2C212&ref=nb_sb_noss_2', 'https://www.amazon.in/s?k=gloves&crid=1EI7D4CAY1PY3&sprefix=tshir%2Caps%2C212&ref=nb_sb_noss_2', 'https://www.amazon.in/s?k=skirt&crid=1EI7D4CAY1PY3&sprefix=tshir%2Caps%2C212&ref=nb_sb_noss_2', 'https://www.amazon.in/s?k=pants&crid=1EI7D4CAY1PY3&sprefix=tshir%2Caps%2C212&ref=nb_sb_noss_2', 'https://www.amazon.in/s?k=long+sleeve+tshirt&crid=1EI7D4CAY1PY3&sprefix=tshir%2Caps%2C212&ref=nb_sb_noss_2', 'https://www.amazon.in/s?k=dress+shirt&crid=1EI7D4CAY1PY3&sprefix=tshir%2Caps%2C212&ref=nb_sb_noss_2', 'https://www.amazon.in/s?k=skirt&crid=1EI7D4CAY1PY3&sprefix=tshir%2Caps%2C212&ref=nb_sb_noss_2', 'https://www.amazon.in/s?k=blouse&crid=1EI7D4CAY1PY3&sprefix=tshir%2Caps%2C212&ref=nb_sb_noss_2']\n"
          ]
        }
      ]
    },
    {
      "cell_type": "code",
      "source": [
        "#def get_list_image_websites(url):\n",
        "  #\"\"\"Function to obtain the links for each of the images with the specified url\"\"\"\n",
        "\n",
        "def getdata(url): \n",
        "    r = requests.get(url) \n",
        "    return r.text \n",
        "    \n",
        "htmldata = getdata(list_of_gen_links[0]) \n",
        "soup = BeautifulSoup(htmldata, 'html.parser') \n",
        "for item in soup.find_all('img'):\n",
        "    print(item['src'])"
      ],
      "metadata": {
        "id": "kQLEbTkmnZc4",
        "colab": {
          "base_uri": "https://localhost:8080/"
        },
        "outputId": "62eefe5d-8177-4a12-c283-a290f337745b"
      },
      "execution_count": 16,
      "outputs": [
        {
          "output_type": "stream",
          "name": "stdout",
          "text": [
            "https://images-eu.ssl-images-amazon.com/images/G/31/x-locale/communities/people/logo.gif\n",
            "https://images-eu.ssl-images-amazon.com/images/G/02/x-locale/common/orange-arrow.gif\n"
          ]
        }
      ]
    },
    {
      "cell_type": "code",
      "source": [
        "# place lists of links of websites into the array\n",
        "categorical_links = []\n",
        "\n",
        "get_list_image_websites(list_of_gen_links[0])\n",
        "\n",
        "#for item in list_of_gen_links:\n",
        "  #print(item)\n",
        "  #categorical_links.append(get_list_image_websites(item))\n",
        "\n",
        "print(categorical_links)"
      ],
      "metadata": {
        "colab": {
          "base_uri": "https://localhost:8080/",
          "height": 389
        },
        "id": "5lvF8nd7hfMR",
        "outputId": "d060d4aa-4bc5-4b33-f9c3-b73ee7776a9d"
      },
      "execution_count": null,
      "outputs": [
        {
          "output_type": "error",
          "ename": "TypeError",
          "evalue": "ignored",
          "traceback": [
            "\u001b[0;31m---------------------------------------------------------------------------\u001b[0m",
            "\u001b[0;31mTypeError\u001b[0m                                 Traceback (most recent call last)",
            "\u001b[0;32m<ipython-input-43-b95bc63b9887>\u001b[0m in \u001b[0;36m<module>\u001b[0;34m()\u001b[0m\n\u001b[1;32m      2\u001b[0m \u001b[0mcategorical_links\u001b[0m \u001b[0;34m=\u001b[0m \u001b[0;34m[\u001b[0m\u001b[0;34m]\u001b[0m\u001b[0;34m\u001b[0m\u001b[0;34m\u001b[0m\u001b[0m\n\u001b[1;32m      3\u001b[0m \u001b[0;34m\u001b[0m\u001b[0m\n\u001b[0;32m----> 4\u001b[0;31m \u001b[0mget_list_image_websites\u001b[0m\u001b[0;34m(\u001b[0m\u001b[0mlist_of_gen_links\u001b[0m\u001b[0;34m[\u001b[0m\u001b[0;36m0\u001b[0m\u001b[0;34m]\u001b[0m\u001b[0;34m)\u001b[0m\u001b[0;34m\u001b[0m\u001b[0;34m\u001b[0m\u001b[0m\n\u001b[0m\u001b[1;32m      5\u001b[0m \u001b[0;34m\u001b[0m\u001b[0m\n\u001b[1;32m      6\u001b[0m \u001b[0;31m#for item in list_of_gen_links:\u001b[0m\u001b[0;34m\u001b[0m\u001b[0;34m\u001b[0m\u001b[0;34m\u001b[0m\u001b[0m\n",
            "\u001b[0;32m<ipython-input-42-d87d0b5a89ca>\u001b[0m in \u001b[0;36mget_list_image_websites\u001b[0;34m(url)\u001b[0m\n\u001b[1;32m      2\u001b[0m   \u001b[0;34m\"\"\"Function to obtain the links for each of the images with the specified url\"\"\"\u001b[0m\u001b[0;34m\u001b[0m\u001b[0;34m\u001b[0m\u001b[0m\n\u001b[1;32m      3\u001b[0m   \u001b[0mhtmldata\u001b[0m \u001b[0;34m=\u001b[0m \u001b[0mrequests\u001b[0m\u001b[0;34m.\u001b[0m\u001b[0mget\u001b[0m\u001b[0;34m(\u001b[0m\u001b[0murl\u001b[0m\u001b[0;34m)\u001b[0m\u001b[0;34m\u001b[0m\u001b[0;34m\u001b[0m\u001b[0m\n\u001b[0;32m----> 4\u001b[0;31m   \u001b[0msoup\u001b[0m \u001b[0;34m=\u001b[0m \u001b[0mBeautifulSoup\u001b[0m\u001b[0;34m(\u001b[0m\u001b[0mhtmldata\u001b[0m\u001b[0;34m,\u001b[0m \u001b[0;34m'html.parser'\u001b[0m\u001b[0;34m)\u001b[0m\u001b[0;34m\u001b[0m\u001b[0;34m\u001b[0m\u001b[0m\n\u001b[0m\u001b[1;32m      5\u001b[0m \u001b[0;34m\u001b[0m\u001b[0m\n\u001b[1;32m      6\u001b[0m   \u001b[0mlist_of_links\u001b[0m \u001b[0;34m=\u001b[0m \u001b[0;34m[\u001b[0m\u001b[0;34m]\u001b[0m\u001b[0;34m\u001b[0m\u001b[0;34m\u001b[0m\u001b[0m\n",
            "\u001b[0;32m/usr/local/lib/python3.7/dist-packages/bs4/__init__.py\u001b[0m in \u001b[0;36m__init__\u001b[0;34m(self, markup, features, builder, parse_only, from_encoding, exclude_encodings, **kwargs)\u001b[0m\n\u001b[1;32m    244\u001b[0m         \u001b[0;32mif\u001b[0m \u001b[0mhasattr\u001b[0m\u001b[0;34m(\u001b[0m\u001b[0mmarkup\u001b[0m\u001b[0;34m,\u001b[0m \u001b[0;34m'read'\u001b[0m\u001b[0;34m)\u001b[0m\u001b[0;34m:\u001b[0m        \u001b[0;31m# It's a file-type object.\u001b[0m\u001b[0;34m\u001b[0m\u001b[0;34m\u001b[0m\u001b[0m\n\u001b[1;32m    245\u001b[0m             \u001b[0mmarkup\u001b[0m \u001b[0;34m=\u001b[0m \u001b[0mmarkup\u001b[0m\u001b[0;34m.\u001b[0m\u001b[0mread\u001b[0m\u001b[0;34m(\u001b[0m\u001b[0;34m)\u001b[0m\u001b[0;34m\u001b[0m\u001b[0;34m\u001b[0m\u001b[0m\n\u001b[0;32m--> 246\u001b[0;31m         elif len(markup) <= 256 and (\n\u001b[0m\u001b[1;32m    247\u001b[0m                 \u001b[0;34m(\u001b[0m\u001b[0misinstance\u001b[0m\u001b[0;34m(\u001b[0m\u001b[0mmarkup\u001b[0m\u001b[0;34m,\u001b[0m \u001b[0mbytes\u001b[0m\u001b[0;34m)\u001b[0m \u001b[0;32mand\u001b[0m \u001b[0;32mnot\u001b[0m \u001b[0;34mb'<'\u001b[0m \u001b[0;32min\u001b[0m \u001b[0mmarkup\u001b[0m\u001b[0;34m)\u001b[0m\u001b[0;34m\u001b[0m\u001b[0;34m\u001b[0m\u001b[0m\n\u001b[1;32m    248\u001b[0m                 \u001b[0;32mor\u001b[0m \u001b[0;34m(\u001b[0m\u001b[0misinstance\u001b[0m\u001b[0;34m(\u001b[0m\u001b[0mmarkup\u001b[0m\u001b[0;34m,\u001b[0m \u001b[0mstr\u001b[0m\u001b[0;34m)\u001b[0m \u001b[0;32mand\u001b[0m \u001b[0;32mnot\u001b[0m \u001b[0;34m'<'\u001b[0m \u001b[0;32min\u001b[0m \u001b[0mmarkup\u001b[0m\u001b[0;34m)\u001b[0m\u001b[0;34m\u001b[0m\u001b[0;34m\u001b[0m\u001b[0m\n",
            "\u001b[0;31mTypeError\u001b[0m: object of type 'Response' has no len()"
          ]
        }
      ]
    },
    {
      "cell_type": "code",
      "source": [
        "from google.colab import drive\n",
        "drive.mount('/content/gdrive')"
      ],
      "metadata": {
        "colab": {
          "base_uri": "https://localhost:8080/"
        },
        "id": "TiOQScfgiQUQ",
        "outputId": "a3944b93-0984-49df-ffe1-f867a978fef4"
      },
      "execution_count": null,
      "outputs": [
        {
          "output_type": "stream",
          "name": "stdout",
          "text": [
            "Mounted at /content/gdrive\n"
          ]
        }
      ]
    },
    {
      "cell_type": "code",
      "source": [
        "image = urllib.request.urlretrieve(list_of_links[5], \"/content/gdrive/My Drive/images/tshirt/amazon.jpg\")"
      ],
      "metadata": {
        "id": "CDoOb9p3j3K7"
      },
      "execution_count": null,
      "outputs": []
    }
  ]
}