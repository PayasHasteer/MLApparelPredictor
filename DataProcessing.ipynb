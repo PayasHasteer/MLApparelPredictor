{
  "nbformat": 4,
  "nbformat_minor": 0,
  "metadata": {
    "colab": {
      "name": "Untitled2.ipynb",
      "provenance": [],
      "collapsed_sections": [],
      "authorship_tag": "ABX9TyNLoiU8TZ2hBx3INfCA9rlk",
      "include_colab_link": true
    },
    "kernelspec": {
      "name": "python3",
      "display_name": "Python 3"
    },
    "language_info": {
      "name": "python"
    }
  },
  "cells": [
    {
      "cell_type": "markdown",
      "metadata": {
        "id": "view-in-github",
        "colab_type": "text"
      },
      "source": [
        "<a href=\"https://colab.research.google.com/github/danialkhan02/MLApparelPredictor/blob/main/DataProcessing.ipynb\" target=\"_parent\"><img src=\"https://colab.research.google.com/assets/colab-badge.svg\" alt=\"Open In Colab\"/></a>"
      ]
    },
    {
      "cell_type": "code",
      "source": [
        "import requests \n",
        "from bs4 import BeautifulSoup \n",
        "    \n",
        "def getdata(url): \n",
        "    r = requests.get(url) \n",
        "    return r.text \n",
        "    \n",
        "htmldata = getdata(\"https://www.amazon.in/s?k=tshirt&crid=1ZDIGDC2QO4W9&sprefix=tshir%2Caps%2C356&ref=nb_sb_noss_2\") \n",
        "soup = BeautifulSoup(htmldata, 'html.parser') \n",
        "for item in soup.find_all('img'):\n",
        "    print(item['src'])"
      ],
      "metadata": {
        "colab": {
          "base_uri": "https://localhost:8080/"
        },
        "id": "wMAS9TmUfQq4",
        "outputId": "dfad9085-319e-4c71-f208-ac29ecd72940"
      },
      "execution_count": 3,
      "outputs": [
        {
          "output_type": "stream",
          "name": "stdout",
          "text": [
            "https://images-eu.ssl-images-amazon.com/images/G/31/social_share/amazon_logo._CB633266945_.png\n",
            "https://images-eu.ssl-images-amazon.com/images/G/31/gno/sprites/nav-sprite-global-1x-hm-dsk-reorg._CB405936311_.png\n",
            "https://images-eu.ssl-images-amazon.com/images/G/31/prime/ACQ/FT_SWM_400x39_211._CB623007921_.jpg\n",
            "https://images-na.ssl-images-amazon.com/images/G/31/Symbol/2019/sparkle/CT._CB456094260_FMpng_SY80_.png\n",
            "https://m.media-amazon.com/images/I/71LkXNMDGNL._AC_UL320_.jpg\n",
            "https://m.media-amazon.com/images/I/71DaKKQ93ZL._AC_UL320_.jpg\n",
            "https://m.media-amazon.com/images/I/61f4mm1VlRL._AC_UL320_.jpg\n",
            "https://m.media-amazon.com/images/I/61X7ItT7hkL._AC_UL320_.jpg\n",
            "https://m.media-amazon.com/images/I/41EA9qxRnpL._AC_UL320_.jpg\n",
            "https://m.media-amazon.com/images/I/51KZjSvb22L._AC_UL320_.jpg\n",
            "https://m.media-amazon.com/images/I/71riaoyG1iL._AC_UL320_.jpg\n",
            "https://m.media-amazon.com/images/I/7186S5ig-lL._AC_UL320_.jpg\n",
            "https://m.media-amazon.com/images/I/41c2Kfgg4dL._AC_UL320_.jpg\n",
            "https://m.media-amazon.com/images/I/61g-qXudTrL._AC_UL320_.jpg\n",
            "https://m.media-amazon.com/images/I/71O6Cw0HvkL._AC_UL320_.jpg\n",
            "https://m.media-amazon.com/images/I/41K2tKauoDL._AC_UL320_.jpg\n",
            "https://m.media-amazon.com/images/I/71AsTN-u3+L._AC_UL320_.jpg\n",
            "https://m.media-amazon.com/images/I/81vxyFi0jGL._AC_UL320_.jpg\n",
            "https://m.media-amazon.com/images/I/81dlj7Rt3qL._AC_UL320_.jpg\n",
            "https://m.media-amazon.com/images/I/81ORZ4RVVsL._AC_UL320_.jpg\n",
            "https://m.media-amazon.com/images/I/71GwiLL5jrL._AC_UL320_.jpg\n",
            "https://m.media-amazon.com/images/I/81olDbR4t8L._AC_UL320_.jpg\n",
            "https://m.media-amazon.com/images/I/71VenucnFHL._AC_UL320_.jpg\n",
            "https://m.media-amazon.com/images/I/71lFueCpX5L._AC_UL320_.jpg\n",
            "https://m.media-amazon.com/images/I/81F+zV1Y32L._AC_UL320_.jpg\n",
            "https://m.media-amazon.com/images/I/619SqQW1NYL._AC_UL320_.jpg\n",
            "https://m.media-amazon.com/images/I/81z61zGGJzL._AC_UL320_.jpg\n",
            "https://m.media-amazon.com/images/I/61+8UuOEa4L._AC_UL320_.jpg\n",
            "https://m.media-amazon.com/images/I/71eUwDk8z+L._AC_UL320_.jpg\n",
            "https://m.media-amazon.com/images/I/8162pfadieL._AC_UL320_.jpg\n",
            "https://m.media-amazon.com/images/I/61bDoqhvEPL._AC_UL320_.jpg\n",
            "https://m.media-amazon.com/images/I/81vHlgI1+dL._AC_UL320_.jpg\n",
            "https://m.media-amazon.com/images/I/71O1QaI-sbL._AC_UL320_.jpg\n",
            "https://m.media-amazon.com/images/I/71X7pa5hBTL._AC_UL320_.jpg\n",
            "https://m.media-amazon.com/images/I/81MCGX3ewQL._AC_UL320_.jpg\n",
            "https://m.media-amazon.com/images/I/71DosJOQtUL._AC_UL320_.jpg\n",
            "https://m.media-amazon.com/images/I/71URpZnGZeL._AC_UL320_.jpg\n",
            "https://m.media-amazon.com/images/I/51w7bn+zn6L._AC_UL320_.jpg\n",
            "https://m.media-amazon.com/images/I/613k0gYkdZS._AC_UL320_.jpg\n",
            "https://m.media-amazon.com/images/I/61PgOZ-IH0L._AC_UL320_.jpg\n",
            "https://m.media-amazon.com/images/I/715rqyZzaIL._AC_UL320_.jpg\n",
            "https://m.media-amazon.com/images/I/71a8XDmBJbL._AC_UL320_.jpg\n",
            "https://m.media-amazon.com/images/I/71vp8Lec9JL._AC_UL320_.jpg\n",
            "https://m.media-amazon.com/images/I/71fPSHEIAWL._AC_UL320_.jpg\n",
            "https://m.media-amazon.com/images/I/5122CAwR11L._AC_UL320_.jpg\n",
            "https://m.media-amazon.com/images/I/61UspUGy48L._AC_UL320_.jpg\n",
            "https://m.media-amazon.com/images/I/61kWHspTLbL._AC_UL320_.jpg\n",
            "https://m.media-amazon.com/images/I/5145t8LnJkL._AC_UL320_.jpg\n",
            "https://m.media-amazon.com/images/I/51wr-T2ZTKL._AC_UL320_.jpg\n",
            "https://m.media-amazon.com/images/I/51w7bn+zn6L._AC_UL320_.jpg\n",
            "https://m.media-amazon.com/images/I/51Qa1+vujQL._AC_UL320_.jpg\n",
            "https://m.media-amazon.com/images/I/71kD5yUO8fL._AC_UL320_.jpg\n",
            "https://m.media-amazon.com/images/I/71822GgXY7L._AC_UL320_.jpg\n",
            "https://m.media-amazon.com/images/I/7140W7ZjAzL._AC_UL320_.jpg\n",
            "https://m.media-amazon.com/images/I/71b1XEaNZ-L._AC_UL320_.jpg\n",
            "https://m.media-amazon.com/images/I/61LqxBt9xbL._AC_UL320_.jpg\n",
            "https://m.media-amazon.com/images/I/71DNOWgs62L._AC_UL320_.jpg\n",
            "https://m.media-amazon.com/images/I/71sGfOZcpwL._AC_UL320_.jpg\n",
            "https://m.media-amazon.com/images/I/71-dpoo-jFL._AC_UL320_.jpg\n",
            "https://m.media-amazon.com/images/I/81IX-DPkEeL._AC_UL320_.jpg\n",
            "https://m.media-amazon.com/images/I/51kxiCjufqL._AC_UL320_.jpg\n",
            "https://m.media-amazon.com/images/I/51QeCqn2+9L._AC_UL320_.jpg\n",
            "https://m.media-amazon.com/images/I/81ejfcVZvuL._AC_UL320_.jpg\n",
            "https://m.media-amazon.com/images/I/71YT0iMQTLL._AC_UL320_.jpg\n",
            "https://m.media-amazon.com/images/I/41EGhJsvO7L._AC_UL320_.jpg\n",
            "https://m.media-amazon.com/images/I/91xolSmyDtL._AC_UL320_.jpg\n",
            "https://m.media-amazon.com/images/I/71CPzIvedhL._AC_UL320_.jpg\n",
            "https://m.media-amazon.com/images/I/71GY9vKwv4L._AC_UL320_.jpg\n",
            "https://images-eu.ssl-images-amazon.com/images/G/31/personalization/ybh/loading-4x-gray._CB485916689_.gif\n"
          ]
        }
      ]
    }
  ]
}