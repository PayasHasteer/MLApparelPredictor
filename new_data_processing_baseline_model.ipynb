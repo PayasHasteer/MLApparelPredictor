{
  "nbformat": 4,
  "nbformat_minor": 0,
  "metadata": {
    "colab": {
      "name": "data_processing_baseline_model.ipynb",
      "provenance": [],
      "collapsed_sections": [],
      "authorship_tag": "ABX9TyMNgncpGlU6mrswsOm4VNBx",
      "include_colab_link": true
    },
    "kernelspec": {
      "name": "python3",
      "display_name": "Python 3"
    },
    "language_info": {
      "name": "python"
    }
  },
  "cells": [
    {
      "cell_type": "markdown",
      "metadata": {
        "id": "view-in-github",
        "colab_type": "text"
      },
      "source": [
        "<a href=\"https://colab.research.google.com/github/danialkhan02/MLApparelPredictor/blob/main/new_data_processing_baseline_model.ipynb\" target=\"_parent\"><img src=\"https://colab.research.google.com/assets/colab-badge.svg\" alt=\"Open In Colab\"/></a>"
      ]
    },
    {
      "cell_type": "markdown",
      "source": [
        "**Function: Get list of images from each category**"
      ],
      "metadata": {
        "id": "-f74hUwVnPDq"
      }
    },
    {
      "cell_type": "code",
      "source": [
        "import requests \n",
        "from bs4 import BeautifulSoup \n",
        "import urllib.request"
      ],
      "metadata": {
        "id": "wMAS9TmUfQq4"
      },
      "execution_count": 1,
      "outputs": []
    },
    {
      "cell_type": "code",
      "source": [
        "list_of_categories = [\n",
        "\"tshirt\",\n",
        "\"shorts\",\n",
        "\"shirt\",\n",
        "\"mens+suit\",\n",
        "\"dress\",\n",
        "\"pants\",\n",
        "\"long+sleeve+tshirt\",\n",
        "\"blouse\",\n",
        "]"
      ],
      "metadata": {
        "id": "hns9HAmDoMcX"
      },
      "execution_count": 2,
      "outputs": []
    },
    {
      "cell_type": "code",
      "source": [
        "list_of_gen_links = []\n",
        "\n",
        "\n",
        "for item in list_of_categories:\n",
        "  list_of_gen_links.append(f\"https://www.amazon.in/s?k={item}&crid=1EI7D4CAY1PY3&sprefix=tshir%2Caps%2C212&ref=nb_sb_noss_2\")\n",
        "\n",
        "print(list_of_gen_links)"
      ],
      "metadata": {
        "id": "cbJ00uxio6_x",
        "colab": {
          "base_uri": "https://localhost:8080/"
        },
        "outputId": "ecb4fb6e-b642-4653-be52-5feb18c06419"
      },
      "execution_count": 3,
      "outputs": [
        {
          "output_type": "stream",
          "name": "stdout",
          "text": [
            "['https://www.amazon.in/s?k=tshirt&crid=1EI7D4CAY1PY3&sprefix=tshir%2Caps%2C212&ref=nb_sb_noss_2', 'https://www.amazon.in/s?k=shorts&crid=1EI7D4CAY1PY3&sprefix=tshir%2Caps%2C212&ref=nb_sb_noss_2', 'https://www.amazon.in/s?k=shirt&crid=1EI7D4CAY1PY3&sprefix=tshir%2Caps%2C212&ref=nb_sb_noss_2', 'https://www.amazon.in/s?k=mens+suit&crid=1EI7D4CAY1PY3&sprefix=tshir%2Caps%2C212&ref=nb_sb_noss_2', 'https://www.amazon.in/s?k=dress&crid=1EI7D4CAY1PY3&sprefix=tshir%2Caps%2C212&ref=nb_sb_noss_2', 'https://www.amazon.in/s?k=pants&crid=1EI7D4CAY1PY3&sprefix=tshir%2Caps%2C212&ref=nb_sb_noss_2', 'https://www.amazon.in/s?k=long+sleeve+tshirt&crid=1EI7D4CAY1PY3&sprefix=tshir%2Caps%2C212&ref=nb_sb_noss_2', 'https://www.amazon.in/s?k=blouse&crid=1EI7D4CAY1PY3&sprefix=tshir%2Caps%2C212&ref=nb_sb_noss_2']\n"
          ]
        }
      ]
    },
    {
      "cell_type": "code",
      "source": [
        "def getdata(url): \n",
        "    r = requests.get(url) \n",
        "    return r.text \n",
        "\n",
        "def get_list_image_websites(url):\n",
        "  #\"\"\"Function to obtain the links for each of the images with the specified url\"\"\"\n",
        "  htmldata = getdata(url) \n",
        "  soup = BeautifulSoup(htmldata, 'html.parser') \n",
        "\n",
        "  image_url_list = []\n",
        "  for item in soup.find_all('img'):\n",
        "    image_url_list.append(item['src'])\n",
        "  \n",
        "  return image_url_list"
      ],
      "metadata": {
        "id": "kQLEbTkmnZc4"
      },
      "execution_count": 4,
      "outputs": []
    },
    {
      "cell_type": "code",
      "source": [
        "# place lists of links of websites into the array\n",
        "categorical_links = []\n",
        "\n",
        "for item in list_of_gen_links:\n",
        "  categorical_links.append(get_list_image_websites(item))\n",
        "\n",
        "print(categorical_links)\n"
      ],
      "metadata": {
        "colab": {
          "base_uri": "https://localhost:8080/"
        },
        "id": "5lvF8nd7hfMR",
        "outputId": "102c1cd1-523a-4ec7-f162-3e654cc67542"
      },
      "execution_count": 5,
      "outputs": [
        {
          "output_type": "stream",
          "name": "stdout",
          "text": [
            "[['https://images-eu.ssl-images-amazon.com/images/G/31/social_share/amazon_logo._CB633266945_.png', 'https://images-eu.ssl-images-amazon.com/images/G/31/gno/sprites/nav-sprite-global-1x-hm-dsk-reorg._CB405936311_.png', 'https://images-eu.ssl-images-amazon.com/images/G/31/img22/Events/Aug-ART-22/GW/Timer/SWM_400x39_2days-to-go._CB630768761_.jpg', 'https://images-na.ssl-images-amazon.com/images/G/31/Symbol/2019/sparkle/CT._CB456094260_FMpng_SY80_.png', 'https://m.media-amazon.com/images/I/81vMCwe6hcL._AC_UL320_.jpg', 'https://m.media-amazon.com/images/I/71LkXNMDGNL._AC_UL320_.jpg', 'https://m.media-amazon.com/images/I/71O1QaI-sbL._AC_UL320_.jpg', 'https://m.media-amazon.com/images/I/619SqQW1NYL._AC_UL320_.jpg', 'https://images-eu.ssl-images-amazon.com/images/S/amazon-avatars-global/f67b1d4e-6858-4c80-a32b-12ed8e5db7f0._CR0,0,500,500_SX50_._TTW_.jpg', 'https://m.media-amazon.com/images/I/61oXE2bipSL._AC_UL320_.jpg', 'https://m.media-amazon.com/images/I/71Plp3KMtdL._AC_UL320_.jpg', 'https://m.media-amazon.com/images/I/81-O4wWIZ7L._AC_UL320_.jpg', 'https://m.media-amazon.com/images/I/41EA9qxRnpL._AC_UL320_.jpg', 'https://m.media-amazon.com/images/I/51KZjSvb22L._AC_UL320_.jpg', 'https://m.media-amazon.com/images/I/71riaoyG1iL._AC_UL320_.jpg', 'https://m.media-amazon.com/images/I/7186S5ig-lL._AC_UL320_.jpg', 'https://m.media-amazon.com/images/I/81h4JcAmrSL._AC_UL320_.jpg', 'https://m.media-amazon.com/images/I/81ldJyiMT9L._AC_UL320_.jpg', 'https://m.media-amazon.com/images/I/71O6Cw0HvkL._AC_UL320_.jpg', 'https://m.media-amazon.com/images/I/61a5ykVztfL._AC_UL320_.jpg', 'https://m.media-amazon.com/images/I/71tJWaahoDL._AC_UL320_.jpg', 'https://m.media-amazon.com/images/I/71YT0iMQTLL._AC_UL320_.jpg', 'https://m.media-amazon.com/images/I/71l-IzX+gFL._AC_UL320_.jpg', 'https://m.media-amazon.com/images/I/71vp8Lec9JL._AC_UL320_.jpg', 'https://m.media-amazon.com/images/I/61bDoqhvEPL._AC_UL320_.jpg', 'https://m.media-amazon.com/images/I/61LqxBt9xbL._AC_UL320_.jpg', 'https://m.media-amazon.com/images/I/818niea1luL._AC_UL320_.jpg', 'https://m.media-amazon.com/images/I/81vHlgI1+dL._AC_UL320_.jpg', 'https://m.media-amazon.com/images/I/81MCGX3ewQL._AC_UL320_.jpg', 'https://m.media-amazon.com/images/I/5190ZbUZLZL._AC_UL320_.jpg', 'https://m.media-amazon.com/images/I/61+8UuOEa4L._AC_UL320_.jpg', 'https://m.media-amazon.com/images/I/71X7pa5hBTL._AC_UL320_.jpg', 'https://m.media-amazon.com/images/I/61ZPKT4-37L._AC_UL320_.jpg', 'https://m.media-amazon.com/images/I/61rSf7lBx1L._AC_UL320_.jpg', 'https://m.media-amazon.com/images/I/71CPzIvedhL._AC_UL320_.jpg', 'https://m.media-amazon.com/images/I/61p21cELnEL._AC_UL320_.jpg', 'https://m.media-amazon.com/images/I/715rqyZzaIL._AC_UL320_.jpg', 'https://m.media-amazon.com/images/I/71b1XEaNZ-L._AC_UL320_.jpg', 'https://m.media-amazon.com/images/I/51w7bn+zn6L._AC_UL320_.jpg', 'https://m.media-amazon.com/images/I/61kWHspTLbL._AC_UL320_.jpg', 'https://m.media-amazon.com/images/I/71a8XDmBJbL._AC_UL320_.jpg', 'https://m.media-amazon.com/images/I/61Mw4M+mHwL._AC_UL320_.jpg', 'https://m.media-amazon.com/images/I/61P8T4fyBML._AC_UL320_.jpg', 'https://m.media-amazon.com/images/I/5145t8LnJkL._AC_UL320_.jpg', 'https://m.media-amazon.com/images/I/71DosJOQtUL._AC_UL320_.jpg', 'https://m.media-amazon.com/images/I/61tgfkxUNtL._AC_UL320_.jpg', 'https://m.media-amazon.com/images/I/71sGfOZcpwL._AC_UL320_.jpg', 'https://m.media-amazon.com/images/I/81IX-DPkEeL._AC_UL320_.jpg', 'https://m.media-amazon.com/images/I/71g4IKKmKyL._AC_UL320_.jpg', 'https://m.media-amazon.com/images/I/5122CAwR11L._AC_UL320_.jpg', 'https://m.media-amazon.com/images/I/61choxa9ALL._AC_UL320_.jpg', 'https://m.media-amazon.com/images/I/61f4mm1VlRL._AC_UL320_.jpg', 'https://m.media-amazon.com/images/I/51lC4MrhMBL._AC_UL320_.jpg', 'https://m.media-amazon.com/images/I/515WK8bKtFL._AC_UL320_.jpg', 'https://m.media-amazon.com/images/I/71DNOWgs62L._AC_UL320_.jpg', 'https://m.media-amazon.com/images/I/61XKzywjH8L._AC_UL320_.jpg', 'https://m.media-amazon.com/images/I/81J4fHPmxML._AC_UL320_.jpg', 'https://m.media-amazon.com/images/I/715xyTRQM7L._AC_UL320_.jpg', 'https://m.media-amazon.com/images/I/81BPjok0MUL._AC_UL320_.jpg', 'https://m.media-amazon.com/images/I/91xolSmyDtL._AC_UL320_.jpg', 'https://m.media-amazon.com/images/I/61MOhOlUvdL._AC_UL320_.jpg', 'https://m.media-amazon.com/images/I/61iQptUN+0L._AC_UL320_.jpg', 'https://m.media-amazon.com/images/I/51Qa1+vujQL._AC_UL320_.jpg', 'https://m.media-amazon.com/images/I/51UCCJBTJhL._AC_UL320_.jpg', 'https://images-eu.ssl-images-amazon.com/images/G/31/personalization/ybh/loading-4x-gray._CB485916689_.gif'], ['https://images-eu.ssl-images-amazon.com/images/G/31/x-locale/communities/people/logo.gif', 'https://images-eu.ssl-images-amazon.com/images/G/02/x-locale/common/orange-arrow.gif'], ['https://images-eu.ssl-images-amazon.com/images/G/31/x-locale/communities/people/logo.gif', 'https://images-eu.ssl-images-amazon.com/images/G/02/x-locale/common/orange-arrow.gif'], ['https://images-eu.ssl-images-amazon.com/images/G/31/x-locale/communities/people/logo.gif', 'https://images-eu.ssl-images-amazon.com/images/G/02/x-locale/common/orange-arrow.gif'], ['https://images-eu.ssl-images-amazon.com/images/G/31/x-locale/communities/people/logo.gif', 'https://images-eu.ssl-images-amazon.com/images/G/02/x-locale/common/orange-arrow.gif'], ['https://images-eu.ssl-images-amazon.com/images/G/31/x-locale/communities/people/logo.gif', 'https://images-eu.ssl-images-amazon.com/images/G/02/x-locale/common/orange-arrow.gif'], ['https://images-eu.ssl-images-amazon.com/images/G/31/x-locale/communities/people/logo.gif', 'https://images-eu.ssl-images-amazon.com/images/G/02/x-locale/common/orange-arrow.gif'], ['https://images-eu.ssl-images-amazon.com/images/G/31/x-locale/communities/people/logo.gif', 'https://images-eu.ssl-images-amazon.com/images/G/02/x-locale/common/orange-arrow.gif']]\n"
          ]
        }
      ]
    },
    {
      "cell_type": "code",
      "source": [
        "for item in categorical_links:\n",
        "  print(item)"
      ],
      "metadata": {
        "id": "KDE7ofL3pAcZ",
        "outputId": "be9b96db-b53c-4b37-8a59-6253b3aa0435",
        "colab": {
          "base_uri": "https://localhost:8080/"
        }
      },
      "execution_count": 6,
      "outputs": [
        {
          "output_type": "stream",
          "name": "stdout",
          "text": [
            "['https://images-eu.ssl-images-amazon.com/images/G/31/social_share/amazon_logo._CB633266945_.png', 'https://images-eu.ssl-images-amazon.com/images/G/31/gno/sprites/nav-sprite-global-1x-hm-dsk-reorg._CB405936311_.png', 'https://images-eu.ssl-images-amazon.com/images/G/31/img22/Events/Aug-ART-22/GW/Timer/SWM_400x39_2days-to-go._CB630768761_.jpg', 'https://images-na.ssl-images-amazon.com/images/G/31/Symbol/2019/sparkle/CT._CB456094260_FMpng_SY80_.png', 'https://m.media-amazon.com/images/I/81vMCwe6hcL._AC_UL320_.jpg', 'https://m.media-amazon.com/images/I/71LkXNMDGNL._AC_UL320_.jpg', 'https://m.media-amazon.com/images/I/71O1QaI-sbL._AC_UL320_.jpg', 'https://m.media-amazon.com/images/I/619SqQW1NYL._AC_UL320_.jpg', 'https://images-eu.ssl-images-amazon.com/images/S/amazon-avatars-global/f67b1d4e-6858-4c80-a32b-12ed8e5db7f0._CR0,0,500,500_SX50_._TTW_.jpg', 'https://m.media-amazon.com/images/I/61oXE2bipSL._AC_UL320_.jpg', 'https://m.media-amazon.com/images/I/71Plp3KMtdL._AC_UL320_.jpg', 'https://m.media-amazon.com/images/I/81-O4wWIZ7L._AC_UL320_.jpg', 'https://m.media-amazon.com/images/I/41EA9qxRnpL._AC_UL320_.jpg', 'https://m.media-amazon.com/images/I/51KZjSvb22L._AC_UL320_.jpg', 'https://m.media-amazon.com/images/I/71riaoyG1iL._AC_UL320_.jpg', 'https://m.media-amazon.com/images/I/7186S5ig-lL._AC_UL320_.jpg', 'https://m.media-amazon.com/images/I/81h4JcAmrSL._AC_UL320_.jpg', 'https://m.media-amazon.com/images/I/81ldJyiMT9L._AC_UL320_.jpg', 'https://m.media-amazon.com/images/I/71O6Cw0HvkL._AC_UL320_.jpg', 'https://m.media-amazon.com/images/I/61a5ykVztfL._AC_UL320_.jpg', 'https://m.media-amazon.com/images/I/71tJWaahoDL._AC_UL320_.jpg', 'https://m.media-amazon.com/images/I/71YT0iMQTLL._AC_UL320_.jpg', 'https://m.media-amazon.com/images/I/71l-IzX+gFL._AC_UL320_.jpg', 'https://m.media-amazon.com/images/I/71vp8Lec9JL._AC_UL320_.jpg', 'https://m.media-amazon.com/images/I/61bDoqhvEPL._AC_UL320_.jpg', 'https://m.media-amazon.com/images/I/61LqxBt9xbL._AC_UL320_.jpg', 'https://m.media-amazon.com/images/I/818niea1luL._AC_UL320_.jpg', 'https://m.media-amazon.com/images/I/81vHlgI1+dL._AC_UL320_.jpg', 'https://m.media-amazon.com/images/I/81MCGX3ewQL._AC_UL320_.jpg', 'https://m.media-amazon.com/images/I/5190ZbUZLZL._AC_UL320_.jpg', 'https://m.media-amazon.com/images/I/61+8UuOEa4L._AC_UL320_.jpg', 'https://m.media-amazon.com/images/I/71X7pa5hBTL._AC_UL320_.jpg', 'https://m.media-amazon.com/images/I/61ZPKT4-37L._AC_UL320_.jpg', 'https://m.media-amazon.com/images/I/61rSf7lBx1L._AC_UL320_.jpg', 'https://m.media-amazon.com/images/I/71CPzIvedhL._AC_UL320_.jpg', 'https://m.media-amazon.com/images/I/61p21cELnEL._AC_UL320_.jpg', 'https://m.media-amazon.com/images/I/715rqyZzaIL._AC_UL320_.jpg', 'https://m.media-amazon.com/images/I/71b1XEaNZ-L._AC_UL320_.jpg', 'https://m.media-amazon.com/images/I/51w7bn+zn6L._AC_UL320_.jpg', 'https://m.media-amazon.com/images/I/61kWHspTLbL._AC_UL320_.jpg', 'https://m.media-amazon.com/images/I/71a8XDmBJbL._AC_UL320_.jpg', 'https://m.media-amazon.com/images/I/61Mw4M+mHwL._AC_UL320_.jpg', 'https://m.media-amazon.com/images/I/61P8T4fyBML._AC_UL320_.jpg', 'https://m.media-amazon.com/images/I/5145t8LnJkL._AC_UL320_.jpg', 'https://m.media-amazon.com/images/I/71DosJOQtUL._AC_UL320_.jpg', 'https://m.media-amazon.com/images/I/61tgfkxUNtL._AC_UL320_.jpg', 'https://m.media-amazon.com/images/I/71sGfOZcpwL._AC_UL320_.jpg', 'https://m.media-amazon.com/images/I/81IX-DPkEeL._AC_UL320_.jpg', 'https://m.media-amazon.com/images/I/71g4IKKmKyL._AC_UL320_.jpg', 'https://m.media-amazon.com/images/I/5122CAwR11L._AC_UL320_.jpg', 'https://m.media-amazon.com/images/I/61choxa9ALL._AC_UL320_.jpg', 'https://m.media-amazon.com/images/I/61f4mm1VlRL._AC_UL320_.jpg', 'https://m.media-amazon.com/images/I/51lC4MrhMBL._AC_UL320_.jpg', 'https://m.media-amazon.com/images/I/515WK8bKtFL._AC_UL320_.jpg', 'https://m.media-amazon.com/images/I/71DNOWgs62L._AC_UL320_.jpg', 'https://m.media-amazon.com/images/I/61XKzywjH8L._AC_UL320_.jpg', 'https://m.media-amazon.com/images/I/81J4fHPmxML._AC_UL320_.jpg', 'https://m.media-amazon.com/images/I/715xyTRQM7L._AC_UL320_.jpg', 'https://m.media-amazon.com/images/I/81BPjok0MUL._AC_UL320_.jpg', 'https://m.media-amazon.com/images/I/91xolSmyDtL._AC_UL320_.jpg', 'https://m.media-amazon.com/images/I/61MOhOlUvdL._AC_UL320_.jpg', 'https://m.media-amazon.com/images/I/61iQptUN+0L._AC_UL320_.jpg', 'https://m.media-amazon.com/images/I/51Qa1+vujQL._AC_UL320_.jpg', 'https://m.media-amazon.com/images/I/51UCCJBTJhL._AC_UL320_.jpg', 'https://images-eu.ssl-images-amazon.com/images/G/31/personalization/ybh/loading-4x-gray._CB485916689_.gif']\n",
            "['https://images-eu.ssl-images-amazon.com/images/G/31/x-locale/communities/people/logo.gif', 'https://images-eu.ssl-images-amazon.com/images/G/02/x-locale/common/orange-arrow.gif']\n",
            "['https://images-eu.ssl-images-amazon.com/images/G/31/x-locale/communities/people/logo.gif', 'https://images-eu.ssl-images-amazon.com/images/G/02/x-locale/common/orange-arrow.gif']\n",
            "['https://images-eu.ssl-images-amazon.com/images/G/31/x-locale/communities/people/logo.gif', 'https://images-eu.ssl-images-amazon.com/images/G/02/x-locale/common/orange-arrow.gif']\n",
            "['https://images-eu.ssl-images-amazon.com/images/G/31/x-locale/communities/people/logo.gif', 'https://images-eu.ssl-images-amazon.com/images/G/02/x-locale/common/orange-arrow.gif']\n",
            "['https://images-eu.ssl-images-amazon.com/images/G/31/x-locale/communities/people/logo.gif', 'https://images-eu.ssl-images-amazon.com/images/G/02/x-locale/common/orange-arrow.gif']\n",
            "['https://images-eu.ssl-images-amazon.com/images/G/31/x-locale/communities/people/logo.gif', 'https://images-eu.ssl-images-amazon.com/images/G/02/x-locale/common/orange-arrow.gif']\n",
            "['https://images-eu.ssl-images-amazon.com/images/G/31/x-locale/communities/people/logo.gif', 'https://images-eu.ssl-images-amazon.com/images/G/02/x-locale/common/orange-arrow.gif']\n"
          ]
        }
      ]
    },
    {
      "cell_type": "code",
      "source": [
        "from google.colab import drive\n",
        "drive.mount('/content/gdrive')"
      ],
      "metadata": {
        "colab": {
          "base_uri": "https://localhost:8080/"
        },
        "id": "TiOQScfgiQUQ",
        "outputId": "9d4fd565-2457-46a6-ff61-afc565d97736"
      },
      "execution_count": 7,
      "outputs": [
        {
          "output_type": "stream",
          "name": "stdout",
          "text": [
            "Mounted at /content/gdrive\n"
          ]
        }
      ]
    },
    {
      "cell_type": "code",
      "source": [
        "def formulate_dir_for_GD_mount(category, index, data_type):\n",
        "  string_to_return = \"/content/gdrive/My Drive/images/\" + data_type + \"/\" + category + \"/\" + \"amazon_\" + category + \"_\" + str(index) + \".jpg\"\n",
        "\n",
        "  return string_to_return"
      ],
      "metadata": {
        "id": "B7q51KQuvYK6"
      },
      "execution_count": 8,
      "outputs": []
    },
    {
      "cell_type": "code",
      "source": [
        "print(formulate_dir_for_GD_mount(\"hello\", 0, \"training\"))"
      ],
      "metadata": {
        "colab": {
          "base_uri": "https://localhost:8080/"
        },
        "id": "XgR_7tRWv-j8",
        "outputId": "5e76ef27-7d3c-4c7d-b21e-8a016d622575"
      },
      "execution_count": 9,
      "outputs": [
        {
          "output_type": "stream",
          "name": "stdout",
          "text": [
            "/content/gdrive/My Drive/images/training/hello/amazon_hello_0.jpg\n"
          ]
        }
      ]
    },
    {
      "cell_type": "code",
      "source": [
        "index = 0\n",
        "data_type = \"\"\n",
        "\n",
        "for outer_array in categorical_links:\n",
        "  innerIndex = 0\n",
        "  sixty_len = 10\n",
        "  twenty_len = 5\n",
        "  for item in outer_array:\n",
        "    # seperate the links into a 60 20 20 split\n",
        "\n",
        "    if innerIndex < sixty_len:\n",
        "      data_type = \"small_dataset_training\"\n",
        "    if innerIndex > sixty_len and innerIndex < sixty_len + twenty_len:\n",
        "      data_type = \"small_dataset_validation\"\n",
        "    if innerIndex > sixty_len + twenty_len:\n",
        "      data_type = \"small_dataset_testing\"\n",
        "\n",
        "    print(formulate_dir_for_GD_mount(list_of_categories[index], innerIndex, data_type ))\n",
        "    #urllib.request.urlretrieve( item, formulate_dir_for_GD_mount(list_of_categories[index], innerIndex, data_type ))\n",
        "    innerIndex += 1\n",
        "  index += 1"
      ],
      "metadata": {
        "id": "6dgFsTmojRtd",
        "outputId": "47ecc427-330b-4d95-d0fb-38b75e8003fb",
        "colab": {
          "base_uri": "https://localhost:8080/"
        }
      },
      "execution_count": 10,
      "outputs": [
        {
          "output_type": "stream",
          "name": "stdout",
          "text": [
            "/content/gdrive/My Drive/images/small_dataset_training/tshirt/amazon_tshirt_0.jpg\n",
            "/content/gdrive/My Drive/images/small_dataset_training/tshirt/amazon_tshirt_1.jpg\n",
            "/content/gdrive/My Drive/images/small_dataset_training/shorts/amazon_shorts_0.jpg\n",
            "/content/gdrive/My Drive/images/small_dataset_training/shorts/amazon_shorts_1.jpg\n",
            "/content/gdrive/My Drive/images/small_dataset_training/shirt/amazon_shirt_0.jpg\n",
            "/content/gdrive/My Drive/images/small_dataset_training/shirt/amazon_shirt_1.jpg\n",
            "/content/gdrive/My Drive/images/small_dataset_training/mens+suit/amazon_mens+suit_0.jpg\n",
            "/content/gdrive/My Drive/images/small_dataset_training/mens+suit/amazon_mens+suit_1.jpg\n",
            "/content/gdrive/My Drive/images/small_dataset_training/dress/amazon_dress_0.jpg\n",
            "/content/gdrive/My Drive/images/small_dataset_training/dress/amazon_dress_1.jpg\n",
            "/content/gdrive/My Drive/images/small_dataset_training/pants/amazon_pants_0.jpg\n",
            "/content/gdrive/My Drive/images/small_dataset_training/pants/amazon_pants_1.jpg\n",
            "/content/gdrive/My Drive/images/small_dataset_training/long+sleeve+tshirt/amazon_long+sleeve+tshirt_0.jpg\n",
            "/content/gdrive/My Drive/images/small_dataset_training/long+sleeve+tshirt/amazon_long+sleeve+tshirt_1.jpg\n",
            "/content/gdrive/My Drive/images/small_dataset_training/blouse/amazon_blouse_0.jpg\n",
            "/content/gdrive/My Drive/images/small_dataset_training/blouse/amazon_blouse_1.jpg\n"
          ]
        }
      ]
    },
    {
      "cell_type": "code",
      "source": [
        "index = 0\n",
        "data_type = \"\"\n",
        "\n",
        "for outer_array in categorical_links:\n",
        "  innerIndex = 0\n",
        "  sixty_len = int(0.6*len(outer_array))\n",
        "  twenty_len = int(0.2*len(outer_array))\n",
        "  for item in outer_array:\n",
        "    # seperate the links into a 60 20 20 split\n",
        "\n",
        "    if innerIndex < sixty_len:\n",
        "      data_type = \"training\"\n",
        "    if innerIndex > sixty_len and innerIndex < sixty_len + twenty_len:\n",
        "      data_type = \"validation\"\n",
        "    if innerIndex > sixty_len + twenty_len:\n",
        "      data_type = \"testing\"\n",
        "\n",
        "    print(formulate_dir_for_GD_mount(list_of_categories[index], innerIndex, data_type ))\n",
        "    print(item + \"?w=224&h=224\")\n",
        "\n",
        "    #urllib.request.urlretrieve( item, formulate_dir_for_GD_mount(list_of_categories[index], innerIndex, data_type ))\n",
        "    innerIndex += 1\n",
        "  index += 1"
      ],
      "metadata": {
        "id": "CDoOb9p3j3K7",
        "colab": {
          "base_uri": "https://localhost:8080/"
        },
        "outputId": "f58d9c3b-6b38-49c1-89a8-425713bbc275"
      },
      "execution_count": 12,
      "outputs": [
        {
          "output_type": "stream",
          "name": "stdout",
          "text": [
            "/content/gdrive/My Drive/images/training/tshirt/amazon_tshirt_0.jpg\n",
            "https://images-eu.ssl-images-amazon.com/images/G/31/x-locale/communities/people/logo.gif?w=224&h=224\n",
            "/content/gdrive/My Drive/images/training/tshirt/amazon_tshirt_1.jpg\n",
            "https://images-eu.ssl-images-amazon.com/images/G/02/x-locale/common/orange-arrow.gif?w=224&h=224\n",
            "/content/gdrive/My Drive/images/training/shorts/amazon_shorts_0.jpg\n",
            "https://images-eu.ssl-images-amazon.com/images/G/31/x-locale/communities/people/logo.gif?w=224&h=224\n",
            "/content/gdrive/My Drive/images/training/shorts/amazon_shorts_1.jpg\n",
            "https://images-eu.ssl-images-amazon.com/images/G/02/x-locale/common/orange-arrow.gif?w=224&h=224\n",
            "/content/gdrive/My Drive/images/training/shirt/amazon_shirt_0.jpg\n",
            "https://images-eu.ssl-images-amazon.com/images/G/31/x-locale/communities/people/logo.gif?w=224&h=224\n",
            "/content/gdrive/My Drive/images/training/shirt/amazon_shirt_1.jpg\n",
            "https://images-eu.ssl-images-amazon.com/images/G/02/x-locale/common/orange-arrow.gif?w=224&h=224\n",
            "/content/gdrive/My Drive/images/training/mens+suit/amazon_mens+suit_0.jpg\n",
            "https://images-eu.ssl-images-amazon.com/images/G/31/x-locale/communities/people/logo.gif?w=224&h=224\n",
            "/content/gdrive/My Drive/images/training/mens+suit/amazon_mens+suit_1.jpg\n",
            "https://images-eu.ssl-images-amazon.com/images/G/02/x-locale/common/orange-arrow.gif?w=224&h=224\n",
            "/content/gdrive/My Drive/images/training/dress/amazon_dress_0.jpg\n",
            "https://images-eu.ssl-images-amazon.com/images/G/31/x-locale/communities/people/logo.gif?w=224&h=224\n",
            "/content/gdrive/My Drive/images/training/dress/amazon_dress_1.jpg\n",
            "https://images-eu.ssl-images-amazon.com/images/G/02/x-locale/common/orange-arrow.gif?w=224&h=224\n",
            "/content/gdrive/My Drive/images/training/pants/amazon_pants_0.jpg\n",
            "https://images-eu.ssl-images-amazon.com/images/G/31/x-locale/communities/people/logo.gif?w=224&h=224\n",
            "/content/gdrive/My Drive/images/training/pants/amazon_pants_1.jpg\n",
            "https://images-eu.ssl-images-amazon.com/images/G/02/x-locale/common/orange-arrow.gif?w=224&h=224\n",
            "/content/gdrive/My Drive/images/training/long+sleeve+tshirt/amazon_long+sleeve+tshirt_0.jpg\n",
            "https://images-eu.ssl-images-amazon.com/images/G/31/x-locale/communities/people/logo.gif?w=224&h=224\n",
            "/content/gdrive/My Drive/images/training/long+sleeve+tshirt/amazon_long+sleeve+tshirt_1.jpg\n",
            "https://images-eu.ssl-images-amazon.com/images/G/02/x-locale/common/orange-arrow.gif?w=224&h=224\n",
            "/content/gdrive/My Drive/images/training/blouse/amazon_blouse_0.jpg\n",
            "https://images-eu.ssl-images-amazon.com/images/G/31/x-locale/communities/people/logo.gif?w=224&h=224\n",
            "/content/gdrive/My Drive/images/training/blouse/amazon_blouse_1.jpg\n",
            "https://images-eu.ssl-images-amazon.com/images/G/02/x-locale/common/orange-arrow.gif?w=224&h=224\n"
          ]
        }
      ]
    }
  ]
}